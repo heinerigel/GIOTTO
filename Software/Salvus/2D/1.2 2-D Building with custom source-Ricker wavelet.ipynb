{
 "cells": [
  {
   "cell_type": "markdown",
   "metadata": {},
   "source": [
    "# 1.2 2-D Building with custom source-Ricker wavelet\n",
    "\n",
    "### This notebook is a modfied version of '2d Buildin initial.ipynb' for loading a custom source time function (stf).\n",
    "### Here we load the custom Ricker wavelet.\n",
    "#### ...........................................................................................................................................................................................\n",
    "#### Initially edited by Salvus group of ETH (https://salvus.io/)\n",
    "#### Modified by Yingjie Gao (gaoyingjie@mail.iggcas.ac.cn;gaoyingjie12@mails.ucas.ac.cn) \n",
    "#### Institute of Geology and Geophysics, Chinase Academy of Sciences, Beijing, China, 100029\n",
    "#### ..........................................................................................................................................................................................."
   ]
  },
  {
   "cell_type": "code",
   "execution_count": 8,
   "metadata": {},
   "outputs": [],
   "source": [
    "# Magic\n",
    "# %autosave 0\n",
    "%matplotlib inline\n",
    "%config Completer.use_jedi = False"
   ]
  },
  {
   "cell_type": "code",
   "execution_count": 9,
   "metadata": {},
   "outputs": [],
   "source": [
    "# Standard Python packages\n",
    "import matplotlib.pyplot as plt\n",
    "import numpy as np\n",
    "import h5py\n",
    "\n",
    "# Salvus packages\n",
    "import salvus_flow.simple_config as config\n",
    "import salvus_toolbox.toolbox as st\n",
    "import salvus_toolbox.toolbox_geotech as st_geo\n",
    "import salvus_flow.simple_config as sc\n",
    "from salvus_flow import api"
   ]
  },
  {
   "cell_type": "markdown",
   "metadata": {},
   "source": [
    "## Generating the mesh"
   ]
  },
  {
   "cell_type": "code",
   "execution_count": 10,
   "metadata": {},
   "outputs": [],
   "source": [
    "n_stories = 50             # number of building stories\n",
    "wall_width = 1.0           \n",
    "story_height = 3.0\n",
    "ceiling_height = 0.3\n",
    "building_width = 20.0\n",
    "basement_depth = 20.0\n",
    "basement_width = 100.0"
   ]
  },
  {
   "cell_type": "code",
   "execution_count": 11,
   "metadata": {},
   "outputs": [],
   "source": [
    "# f_max = 500.0\n",
    "f_max = 10.0\n",
    "# vs_min = 1500.0 \n",
    "vs_min = 2000.0      # set the velocity manually below\n",
    "# nelem_per_wavelength = 2.0\n",
    "nelem_per_wavelength = 15.0"
   ]
  },
  {
   "cell_type": "code",
   "execution_count": 12,
   "metadata": {},
   "outputs": [],
   "source": [
    "mesh, bnd = st_geo.get_simple_building(\n",
    "    f_max=f_max,\n",
    "    vs_min=vs_min,\n",
    "    n_stories=n_stories,\n",
    "    wall_width=wall_width,\n",
    "    story_height=story_height,\n",
    "    basement_width=basement_width,\n",
    "    basement_depth=basement_depth,\n",
    "    building_width=building_width,\n",
    "    ceiling_height=ceiling_height,\n",
    "    nelem_per_wavelength=nelem_per_wavelength,\n",
    ")"
   ]
  },
  {
   "cell_type": "code",
   "execution_count": 13,
   "metadata": {},
   "outputs": [],
   "source": [
    "nodes = mesh.get_element_nodes()[:, :, 0]\n",
    "mesh.attach_field(\"RHO\", np.ones_like(nodes) * 1000)\n",
    "# mesh.attach_field(\"VS\", np.ones_like(nodes) * vs_mi\n",
    "# mesh.attach_field(\"VP\", np.ones_like(nodes) * vs_min * 2)\n",
    "mesh.attach_field(\"VS\", np.ones_like(nodes) * 2000.0)      #S wave velocity for concrete: 2000 m/s\n",
    "mesh.attach_field(\"VP\", np.ones_like(nodes) * 3600.0)      #P wave velocity for concrete: 3600 m/s\n",
    "\n",
    "#.................................................\n",
    "# For heterogenous media (to make differenct velocities between the basement and the building)\n",
    "y_centroids = mesh.get_element_centroid()[:, 1]\n",
    "basement_elems = np.where(y_centroids < 0)\n",
    "mesh.element_nodal_fields[\"VS\"][basement_elems] = 1000.0    #S wave velocity for clay: 400-1000 m/s\n",
    "mesh.element_nodal_fields[\"VP\"][basement_elems] = 2000.0    #P wave velocity for clay: 1000-2500 m/s\n",
    "#.................................................   "
   ]
  },
  {
   "cell_type": "code",
   "execution_count": 14,
   "metadata": {},
   "outputs": [
    {
     "data": {
      "application/vnd.jupyter.widget-view+json": {
       "model_id": "d98dd78ae90c425c894152001087f03d",
       "version_major": 2,
       "version_minor": 0
      },
      "text/plain": [
       "VBox(children=(HTML(value='\\n            <p><i>This is only a preview. Use ParaView to actually investigate\\n …"
      ]
     },
     "metadata": {},
     "output_type": "display_data"
    },
    {
     "data": {
      "text/plain": [
       "<salvus_mesh.unstructured_mesh.UnstructuredMesh at 0x7f8c18953cf8>"
      ]
     },
     "execution_count": 14,
     "metadata": {},
     "output_type": "execute_result"
    }
   ],
   "source": [
    " mesh\n",
    "#  help(mesh)   "
   ]
  },
  {
   "cell_type": "code",
   "execution_count": 15,
   "metadata": {},
   "outputs": [],
   "source": [
    "# Write the mesh to a file which can be visualized in Paraview.\n",
    "# Open the associated lambs_problem_mesh.xdmf to visualize.\n",
    "# mesh.write_h5_tensorized_model(\"2D_building_mesh.h5\")"
   ]
  },
  {
   "cell_type": "markdown",
   "metadata": {},
   "source": [
    "## Setting up the simulation\n",
    "\n",
    "### Sources"
   ]
  },
  {
   "cell_type": "markdown",
   "metadata": {},
   "source": [
    "#### setting the stf by call the Salvus built-in function"
   ]
  },
  {
   "cell_type": "code",
   "execution_count": 16,
   "metadata": {},
   "outputs": [
    {
     "name": "stdout",
     "output_type": "stream",
     "text": [
      "{'center-frequency': 5.0, 'wavelet': 'ricker'}\n"
     ]
    },
    {
     "data": {
      "image/png": "[encoded data removed]",
      "text/plain": [
       "<Figure size 1080x360 with 2 Axes>"
      ]
     },
     "metadata": {
      "needs_background": "light"
     },
     "output_type": "display_data"
    }
   ],
   "source": [
    "# Ricker wavelet\n",
    "#.................................................\n",
    "# refrence to the web tutorial of the 'Marmousi'\n",
    "# https://salvus.io/examples/Jupytext/exploration/marmousi_2d/marmousi_2d/#frequency-content\n",
    "\n",
    "wavelet = config.stf.Ricker(center_frequency=f_max / 2)\n",
    "f, ax = plt.subplots(1, 2, figsize=(15, 5))\n",
    "\n",
    "ax[0].plot(*wavelet.get_stf())\n",
    "ax[0].set_xlabel(\"Time (s)\")\n",
    "ax[0].set_ylabel(\"Amplitude\")\n",
    "\n",
    "ax[1].plot(*wavelet.get_power_spectrum())\n",
    "ax[1].set_xlabel(\"Frequency (Hz)\")\n",
    "ax[1].set_ylabel(\"Amplitude\")\n",
    "ax[0].set_title('Built-in Ricker wavelet')\n",
    "ax[1].set_title('Built-in Ricker wavelet')\n",
    "#.................................................\n",
    "print(wavelet)"
   ]
  },
  {
   "cell_type": "code",
   "execution_count": 17,
   "metadata": {},
   "outputs": [],
   "source": [
    "# # GaussionRate wavelet\n",
    "# #.................................................\n",
    "# # To learn the usage of this stf, type 'help(config.stf.GaussianRate)'\n",
    "\n",
    "# wavelet = config.stf.GaussianRate(half_duration_in_seconds=2.0)\n",
    "# # wavelet = config.stf.GaussianRate(center_frequency=f_max / 2)\n",
    "# f, ax = plt.subplots(1, 2, figsize=(15, 5))\n",
    "# ax[0].plot(*wavelet.get_stf())\n",
    "# # ax[0].plot(*stf.get_stf())\n",
    "# ax[0].set_xlabel(\"Time (s)\")\n",
    "# ax[0].set_ylabel(\"Amplitude\")\n",
    "\n",
    "# ax[1].plot(*wavelet.get_power_spectrum())\n",
    "# # ax[1].plot(*stf.get_power_spectrum())\n",
    "# ax[1].set_xlabel(\"Frequency (Hz)\")\n",
    "# ax[1].set_ylabel(\"Amplitude\")\n",
    "# #.................................................\n",
    "# print(wavelet)\n",
    "# ax[0].set_title('Built-in Ricker wavelet')"
   ]
  },
  {
   "cell_type": "code",
   "execution_count": 18,
   "metadata": {},
   "outputs": [],
   "source": [
    "# help(config.stf.Delta)\n",
    "# help(config.stf.Ricker)"
   ]
  },
  {
   "cell_type": "markdown",
   "metadata": {},
   "source": [
    "## Insert custom source time function\n",
    "according to https://salvus.io/examples/Jupytext/basics/custom_sources/custom_sources/"
   ]
  },
  {
   "cell_type": "markdown",
   "metadata": {},
   "source": [
    "### There are two important things to notice:\n",
    "\n",
    "    To avoid artifacts in the wavefield the custom source function should always start smoothly from zero to be compatible with the homogeneous initial conditions.\n",
    "\n",
    "    You don't need to worry too much about the correct sampling rate, as the source time function will be resampled internally using the actual time step of the simulation. Just make sure that you have sufficiently many data points to avoid undersampling."
   ]
  },
  {
   "cell_type": "markdown",
   "metadata": {},
   "source": [
    "#### Setting the Custom source time function manually"
   ]
  },
  {
   "cell_type": "code",
   "execution_count": 19,
   "metadata": {},
   "outputs": [
    {
     "data": {
      "image/png": "[encoded data removed]",
      "text/plain": [
       "<Figure size 540x360 with 1 Axes>"
      ]
     },
     "metadata": {
      "needs_background": "light"
     },
     "output_type": "display_data"
    }
   ],
   "source": [
    "wavelet_width_in_seconds = 0.3\n",
    "time_step_in_seconds = 1e-4\n",
    "center_frequency = f_max / 2\n",
    "\n",
    "sigma_2 = 1 / (np.pi * center_frequency) ** 2\n",
    "\n",
    "# time = np.linspace(-wavelet_width_in_seconds,\n",
    "#                   wavelet_width_in_seconds,\n",
    "#                   int((2 * wavelet_width_in_seconds / time_step_in_seconds)))\n",
    "\n",
    "time = np.linspace(0,\n",
    "                   2 * wavelet_width_in_seconds,\n",
    "                   int((2 * wavelet_width_in_seconds / time_step_in_seconds)))\n",
    "t0= 1.5 / center_frequency\n",
    "# t0=0.12\n",
    "\n",
    "starttime_in_nanoseconds = 1e9 * time[0]\n",
    "sampling_rate_in_hertz = 1.0 / time_step_in_seconds\n",
    "\n",
    "wavelet2 = (1 - (2 * (time - t0) ** 2) / sigma_2) * np.exp(-(time - t0) ** 2 / sigma_2)\n",
    "\n",
    "# plot the wavelet\n",
    "plt.figure(figsize=(7.5, 5))\n",
    "plt.plot(time, wavelet2)\n",
    "plt.xlabel('time [s]')\n",
    "plt.ylabel('amplitude')\n",
    "plt.title('Custom ricker wavelet')\n",
    "plt.show()"
   ]
  },
  {
   "cell_type": "markdown",
   "metadata": {},
   "source": [
    "### Custom Sources"
   ]
  },
  {
   "cell_type": "code",
   "execution_count": 20,
   "metadata": {},
   "outputs": [],
   "source": [
    "#.................................................\n",
    "# Built-in stf\n",
    "\n",
    "stf = config.stf.Ricker(center_frequency=f_max / 2)\n",
    "source = config.source.cartesian.VectorPoint2D(\n",
    "   x=-30, y=0.0, fx=1.0, fy=1.0, source_time_function=stf\n",
    " )\n",
    "\n",
    "\n",
    "#.................................................\n",
    "# Custom source----Manually set stf  \n",
    "sx, sy = -30.0, 0.0 # Source position (m)\n",
    "fx, fy = 1.0, 1.0   # Source components (Nm)\n",
    "\n",
    "source_time_function = np.array([fx * wavelet2, fy * wavelet2]).T\n",
    "with  h5py.File('stf.h5','w') as f:\n",
    "    dset = f.create_dataset('stf', data=source_time_function)\n",
    "    dset.attrs['sampling_rate'] = sampling_rate_in_hertz\n",
    "    dset.attrs['starttime'] = starttime_in_nanoseconds\n",
    "\n",
    "stf = sc.source.stf.Custom(dataset_name='/stf', filename='stf.h5')\n",
    "custom_source = sc.source.cartesian.VectorPoint2D(\n",
    "    x=sx, y=sy, fx=fx, fy=fy,\n",
    "    source_time_function=stf)\n",
    "#................................................."
   ]
  },
  {
   "cell_type": "code",
   "execution_count": 21,
   "metadata": {},
   "outputs": [],
   "source": [
    "#n_rec = 100\n",
    "#.................................................\n",
    "n_rec = 4\n",
    "#.................................................\n",
    "x_rec = np.ones(n_rec) * -building_width / 2\n",
    "y_rec = np.linspace(0, n_stories * story_height, n_rec)\n",
    "\n",
    "receivers = [                                    \n",
    "    config.receiver.cartesian.Point2D(          \n",
    "        x=x,\n",
    "        y=y,\n",
    "        station_code=f\"{_i:03d}\",\n",
    "        #fields=[\"velocity\", \"gradient-of-displacement\",\"displacement\",\"acceleration\"],\n",
    "        fields=[ \"displacement\",\"gradient-of-displacement\",\"velocity\",\"acceleration\"],\n",
    "    )\n",
    "    for _i, (x, y) in enumerate(zip(x_rec, y_rec))\n",
    "]                                                      \n",
    "#.................................................\n",
    "\n",
    "# `item` must be one of: \"displacement\", \"velocity\", \"acceleration\", \n",
    "# \"gradient-of-displacement\", \"strain\", \"phi\", \"phi_t\", \"phi_tt\", \"gradient-of-phi\""
   ]
  },
  {
   "cell_type": "code",
   "execution_count": 22,
   "metadata": {},
   "outputs": [
    {
     "data": {
      "application/vnd.jupyter.widget-view+json": {
       "model_id": "4fcb0ec26e0143d5a40d33c7d10ff0bd",
       "version_major": 2,
       "version_minor": 0
      },
      "text/plain": [
       "VBox(children=(HTML(value='\\n            <p><i>This is only a preview. Use ParaView to actually investigate\\n …"
      ]
     },
     "metadata": {},
     "output_type": "display_data"
    },
    {
     "data": {
      "text/plain": [
       "<salvus_flow.simple_config.simulation.Waveform object at 0x7f8c14d972b0>"
      ]
     },
     "execution_count": 22,
     "metadata": {},
     "output_type": "execute_result"
    }
   ],
   "source": [
    "# Initialize with sources and receivers.\n",
    "w = config.simulation.Waveform(mesh=mesh, sources=source, receivers=receivers)\n",
    "\n",
    "# Set end time, start time is automatically determined.\n",
    "w.physics.wave_equation.end_time_in_seconds = 1.0             # total time 时间   unit: second\n",
    "\n",
    "# Define and attach our absorbing boundaries.\n",
    "ab = config.boundary.Absorbing(\n",
    "    side_sets=[\"x0\", \"x1\", \"y0\"], width_in_meters=bnd, taper_amplitude=f_max\n",
    ")\n",
    "w.physics.wave_equation.boundaries = [ab]\n",
    "\n",
    "# Use simplified HDF5 source output.\n",
    "w.output.point_data.format = \"hdf5\"\n",
    "\n",
    "# Save the volumetric wavefield for visualization purposes.\n",
    "# w.output.volume_data.format = \"hdf5\"\n",
    "# w.output.volume_data.filename = \"output.h5\"\n",
    "# w.output.volume_data.fields = [\"displacement\"]\n",
    "# w.output.volume_data.sampling_interval_in_time_steps = 10\n",
    "\n",
    "# Ensure that Salvus will accept our parameters.\n",
    "w.validate()\n",
    "\n",
    "# Plot the mesh with the sources and receivers.\n",
    "w"
   ]
  },
  {
   "cell_type": "code",
   "execution_count": 23,
   "metadata": {},
   "outputs": [
    {
     "data": {
      "application/vnd.jupyter.widget-view+json": {
       "model_id": "633c0a6b2abf4027adcd19b2baedecc2",
       "version_major": 2,
       "version_minor": 0
      },
      "text/plain": [
       "VBox(children=(HTML(value='\\n            <p><i>This is only a preview. Use ParaView to actually investigate\\n …"
      ]
     },
     "metadata": {},
     "output_type": "display_data"
    },
    {
     "data": {
      "text/plain": [
       "<salvus_flow.simple_config.simulation.Waveform object at 0x7f8c14c34e10>"
      ]
     },
     "execution_count": 23,
     "metadata": {},
     "output_type": "execute_result"
    }
   ],
   "source": [
    "# Initialize with sources and receivers.\n",
    "w_custom = config.simulation.Waveform(mesh=mesh, sources=custom_source, receivers=receivers)\n",
    "\n",
    "# w_custom = config.simulation.Waveform(mesh=mesh, sources=source, receivers=receivers)\n",
    "# Set end time, start time is automatically determined.\n",
    "w_custom.physics.wave_equation.end_time_in_seconds = 1.0             # total time 时间 unit: second\n",
    "\n",
    "# Define and attach our absorbing boundaries.\n",
    "ab = config.boundary.Absorbing(\n",
    "    side_sets=[\"x0\", \"x1\", \"y0\"], width_in_meters=bnd, taper_amplitude=f_max\n",
    ")\n",
    "w_custom.physics.wave_equation.boundaries = [ab]\n",
    "\n",
    "# Use simplified HDF5 source output.\n",
    "w_custom.output.point_data.format = \"hdf5\"\n",
    "\n",
    "# Save the volumetric wavefield for visualization purposes.\n",
    "# w.output.volume_data.format = \"hdf5\"\n",
    "# w.output.volume_data.filename = \"output.h5\"\n",
    "# w.output.volume_data.fields = [\"displacement\"]\n",
    "# w.output.volume_data.sampling_interval_in_time_steps = 10\n",
    "\n",
    "# Ensure that Salvus will accept our parameters.\n",
    "w_custom.validate()\n",
    "\n",
    "# Plot the mesh with the sources and receivers.\n",
    "w_custom"
   ]
  },
  {
   "cell_type": "markdown",
   "metadata": {},
   "source": [
    "## Running the simulation"
   ]
  },
  {
   "cell_type": "markdown",
   "metadata": {},
   "source": [
    "### With the built-in stf"
   ]
  },
  {
   "cell_type": "code",
   "execution_count": 23,
   "metadata": {},
   "outputs": [
    {
     "name": "stdout",
     "output_type": "stream",
     "text": [
      "Job `job_1910021647520052_f08610de7b` running on `local_f64` with 4 rank(s).\n",
      "Site information:\n",
      "  * Salvus version: 0.10.1\n",
      "  * Floating point size: 64\n"
     ]
    },
    {
     "data": {
      "application/vnd.jupyter.widget-view+json": {
       "model_id": "2892e17fc5d243c8a0a37724bd96d49b",
       "version_major": 2,
       "version_minor": 0
      },
      "text/plain": [
       "HBox(children=(IntProgress(value=0, description='Solving forward problem/Computing forward wavefield', layout=…"
      ]
     },
     "metadata": {},
     "output_type": "display_data"
    },
    {
     "name": "stdout",
     "output_type": "stream",
     "text": [
      "\n",
      "* Downloaded 34.3 MB of results to `output-built-in-stf`.\n",
      "* Total run time: 27.08 seconds.\n",
      "* Pure simulation time: 25.05 seconds.\n"
     ]
    },
    {
     "data": {
      "text/plain": [
       "<salvus_flow.sites.salvus_job.SalvusJob at 0x7f76a0d01d68>"
      ]
     },
     "execution_count": 23,
     "metadata": {},
     "output_type": "execute_result"
    }
   ],
   "source": [
    "api.run(\n",
    "    ranks=4,\n",
    "    get_all=True,\n",
    "    input_file=w,\n",
    "    overwrite=True,\n",
    "#     site_name=\"local\",\n",
    "    site_name=\"local_f64\",  \n",
    "# for low frequency wavelet, f64 version is essential to guarantee the accuracy, That is very important!\n",
    "# salvus_f64 need be installed, and the site-name \"local_f64\" need be setted\n",
    "\n",
    "#   output_folder=\"/data/output-built-in-stf\",\n",
    "   output_folder=\"output-built-in-stf\",     # You can set a folder location where you want to save the output files\n",
    ")"
   ]
  },
  {
   "cell_type": "markdown",
   "metadata": {},
   "source": [
    "### With the custom stf"
   ]
  },
  {
   "cell_type": "code",
   "execution_count": 24,
   "metadata": {},
   "outputs": [
    {
     "name": "stdout",
     "output_type": "stream",
     "text": [
      "Job `job_1910021648491146_490d78e257` running on `local_f64` with 4 rank(s).\n",
      "Site information:\n",
      "  * Salvus version: 0.10.1\n",
      "  * Floating point size: 64\n"
     ]
    },
    {
     "data": {
      "application/vnd.jupyter.widget-view+json": {
       "model_id": "25e34bd316cf46198709720c9ce483a2",
       "version_major": 2,
       "version_minor": 0
      },
      "text/plain": [
       "HBox(children=(IntProgress(value=0, description='Solving forward problem/Computing forward wavefield', layout=…"
      ]
     },
     "metadata": {},
     "output_type": "display_data"
    },
    {
     "name": "stdout",
     "output_type": "stream",
     "text": [
      "\n",
      "* Downloaded 26.1 MB of results to `output-custom-stf`.\n",
      "* Total run time: 20.02 seconds.\n",
      "* Pure simulation time: 18.61 seconds.\n"
     ]
    },
    {
     "data": {
      "text/plain": [
       "<salvus_flow.sites.salvus_job.SalvusJob at 0x7f76c5ef1da0>"
      ]
     },
     "execution_count": 24,
     "metadata": {},
     "output_type": "execute_result"
    }
   ],
   "source": [
    "api.run(\n",
    "    ranks=4,\n",
    "    get_all=True,\n",
    "    input_file=w_custom,\n",
    "    overwrite=True,\n",
    "#     site_name=\"local\",\n",
    "    site_name=\"local_f64\",  \n",
    "# for low frequency wavelet, f64 version is essential to guarantee the accuracy, That is very important!\n",
    "# salvus_f64 need be installed, and the site-name \"local_f64\" need be setted\n",
    "\n",
    "#   output_folder=\"/data/output-built-in-stf\",\n",
    "   output_folder=\"output-custom-stf\",     # You can set a folder location where you want to save the output files\n",
    ")"
   ]
  },
  {
   "cell_type": "markdown",
   "metadata": {},
   "source": [
    "## Analyzing the results"
   ]
  },
  {
   "cell_type": "code",
   "execution_count": 30,
   "metadata": {},
   "outputs": [
    {
     "name": "stdout",
     "output_type": "stream",
     "text": [
      "1.16948121813e-05\n",
      "(112177, 4)\n",
      "(85509, 4)\n"
     ]
    },
    {
     "data": {
      "text/plain": [
       "Text(0.5, 0, 'Time (s)')"
      ]
     },
     "execution_count": 30,
     "metadata": {},
     "output_type": "execute_result"
    },
    {
     "data": {
      "image/png": "[encoded data removed]",
      "text/plain": [
       "<Figure size 1080x720 with 3 Axes>"
      ]
     },
     "metadata": {
      "needs_background": "light"
     },
     "output_type": "display_data"
    }
   ],
   "source": [
    "# Read in data.\n",
    "rec_file = \"output-built-in-stf/receivers.h5\"\n",
    "# field = \"displacement\"\n",
    "field = \"gradient-of-displacement\"\n",
    "uxx_b, dt, extent = st.get_shotgather(rec_file, field=field, cmp=0, axis=1)  # uxx_b means uxx obtained by built-in stf\n",
    "uxy_b, _, _ = st.get_shotgather(rec_file, field=field, cmp=1, axis=1)\n",
    "uyx_b, _, _ = st.get_shotgather(rec_file, field=field, cmp=2, axis=1)\n",
    "uyy_b, _, _ = st.get_shotgather(rec_file, field=field, cmp=3, axis=1)\n",
    "\n",
    "\n",
    "# Read in data.\n",
    "rec_file = \"output-custom-stf/receivers.h5\"\n",
    "# field = \"displacement\"\n",
    "field = \"gradient-of-displacement\"\n",
    "uxx_c, dt, extent = st.get_shotgather(rec_file, field=field, cmp=0, axis=1)  # uxx_c means uxx obtained by custom stf\n",
    "uxy_c, _, _ = st.get_shotgather(rec_file, field=field, cmp=1, axis=1)\n",
    "uyx_c, _, _ = st.get_shotgather(rec_file, field=field, cmp=2, axis=1)\n",
    "uyy_c, _, _ = st.get_shotgather(rec_file, field=field, cmp=3, axis=1)\n",
    "\n",
    "print(dt)\n",
    "print(np.shape(uxx_b))\n",
    "print(np.shape(uxx_c))\n",
    "\n",
    "\n",
    "nt,nx=np.shape(uxy_b)\n",
    "nt\n",
    "tt=np.linspace(0,(nt-1)*dt,nt)\n",
    "nx=nx-1\n",
    "\n",
    "\n",
    "f, ax = plt.subplots(3, 1, figsize=(15, 10), sharex=True)\n",
    "start_n=0\n",
    "end_n=85000\n",
    "\n",
    "l1,=ax[0].plot(tt[start_n:end_n],uxy_b[start_n:end_n, nx - 1],color=\"red\",linewidth=2)    \n",
    "l2,=ax[0].plot(tt[start_n:end_n],uxy_c[start_n:end_n, nx - 1],color=\"blue\",linewidth=2)\n",
    "ax[0].legend(handles = [l1, l2,], labels = [r\"Built-in source\", r\"Custom source\"], loc = 'best')\n",
    "\n",
    "\n",
    "ax[1].plot(tt[start_n:end_n],uxy_b[start_n:end_n, nx - 1],color=\"red\",linewidth=2)\n",
    "ax[2].plot(tt[start_n:end_n],uxy_c[start_n:end_n, nx - 1],color=\"blue\",linewidth=2)\n",
    "\n",
    "# Label plots\n",
    "ax[0].set_title(r\"Comparison of Rotation $\\partial u_x / \\partial y$\")\n",
    "ax[1].set_title(r\"Rotation $\\partial u_x / \\partial y$ of Built-in source\")\n",
    "ax[2].set_title(r\"Rotation $\\partial u_x / \\partial y$ of Custom source\")\n",
    "\n",
    "# Label axes.\n",
    "ax[0].set_ylabel(\"Amplitude\")\n",
    "ax[1].set_ylabel(\"Amplitude\")\n",
    "ax[2].set_ylabel(\"Amplitude\")\n",
    "ax[2].set_xlabel(\"Time (s)\")\n",
    "\n",
    "# plt.savefig('Comparison of Rotation obtained by 5Hz wavelet.png')"
   ]
  },
  {
   "cell_type": "code",
   "execution_count": null,
   "metadata": {},
   "outputs": [],
   "source": []
  }
 ],
 "metadata": {
  "kernelspec": {
   "display_name": "Python 3",
   "language": "python",
   "name": "python3"
  },
  "language_info": {
   "codemirror_mode": {
    "name": "ipython",
    "version": 3
   },
   "file_extension": ".py",
   "mimetype": "text/x-python",
   "name": "python",
   "nbconvert_exporter": "python",
   "pygments_lexer": "ipython3",
   "version": "3.7.3"
  }
 },
 "nbformat": 4,
 "nbformat_minor": 2
}
